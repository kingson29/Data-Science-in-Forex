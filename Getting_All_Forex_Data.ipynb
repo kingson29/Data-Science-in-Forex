{
 "cells": [
  {
   "cell_type": "markdown",
   "metadata": {},
   "source": [
    "# Getting 1 minutes Forex Data"
   ]
  },
  {
   "cell_type": "markdown",
   "metadata": {},
   "source": [
    "In this Project, we will examine how to use selenium webdriver to get all the forex data from internet. Then we will extract it from zip and put them all into one folder."
   ]
  },
  {
   "cell_type": "markdown",
   "metadata": {},
   "source": [
    "First, import all relevant libary"
   ]
  },
  {
   "cell_type": "code",
   "execution_count": 1,
   "metadata": {},
   "outputs": [
    {
     "name": "stderr",
     "output_type": "stream",
     "text": [
      "C:\\Users\\kingson\\AppData\\Local\\Continuum\\anaconda3\\envs\\gputensorflow\\lib\\site-packages\\ipykernel_launcher.py:15: DeprecationWarning: use options instead of chrome_options\n",
      "  from ipykernel import kernelapp as app\n"
     ]
    }
   ],
   "source": [
    "from selenium import webdriver\n",
    "from selenium.webdriver.common.keys import Keys\n",
    "from selenium.webdriver.common.by import By\n",
    "from selenium.webdriver.support.ui import WebDriverWait\n",
    "from selenium.webdriver.support import expected_conditions as EC\n",
    "from selenium.common.exceptions import TimeoutException\n",
    "import urllib, os, urllib.request\n",
    "import time\n",
    "import re\n",
    "import datetime\n",
    "import zipfile\n",
    "from os import listdir\n",
    "from os.path import isfile, join\n",
    "import zipfile"
   ]
  },
  {
   "cell_type": "markdown",
   "metadata": {},
   "source": [
    "Set the downloaded directory to your specified path."
   ]
  },
  {
   "cell_type": "code",
   "execution_count": null,
   "metadata": {},
   "outputs": [],
   "source": [
    "download_directory = \"Your target download directory\""
   ]
  },
  {
   "cell_type": "markdown",
   "metadata": {},
   "source": [
    "Open the Chrome Driver with the specified options. (You need to download Chrome Driver and set it to your path before executing) https://chromedriver.chromium.org/"
   ]
  },
  {
   "cell_type": "code",
   "execution_count": null,
   "metadata": {},
   "outputs": [],
   "source": [
    "chromeOptions = webdriver.ChromeOptions()\n",
    "\n",
    "prefs = {\"download.default_directory\" : download_directory}\n",
    "\n",
    "chromeOptions.add_experimental_option(\"prefs\",prefs)\n",
    "\n",
    "driver = webdriver.Chrome(chrome_options=chromeOptions)"
   ]
  },
  {
   "cell_type": "markdown",
   "metadata": {},
   "source": [
    "Here, I define two functions: First function is to go to the website and check what pairs do I have and what is the starting date. Then, the next function would get all of the available data from web in a form of zip file. "
   ]
  },
  {
   "cell_type": "code",
   "execution_count": 2,
   "metadata": {},
   "outputs": [],
   "source": [
    "def get_all_pairs():\n",
    "    all_pairs = {}\n",
    "    driver.get(\"https://www.histdata.com/download-free-forex-data/?/excel/1-minute-bar-quotes\")\n",
    "    alls = driver.find_elements_by_tag_name('tr')\n",
    "    for row in range(len(alls)):\n",
    "        cols = alls[row].find_elements_by_tag_name('td')\n",
    "        try:\n",
    "            for col in cols:\n",
    "                pairname = col.text.split('\\n')[0]\n",
    "                year_from = col.text.split('\\n')[1]\n",
    "\n",
    "                all_pairs[pairname] = year_from\n",
    "        except:\n",
    "            pass\n",
    "    return all_pairs\n",
    "\n",
    "def getforexdata(pair_year=None,pair_name=None):\n",
    "    for year in range(pair_year,datetime.datetime.now().year+1):\n",
    "\n",
    "        if year == datetime.datetime.now().year:\n",
    "            for i in range(datetime.datetime.now().month-1):\n",
    "                driver.get(\"https://www.histdata.com/download-free-forex-historical-data/?/excel/1-minute-bar-quotes/\"+pair_name+\"/\"+str(year)+\"/\"+str(i+1))\n",
    "                driver.find_element_by_id('a_file').click()\n",
    "                \n",
    "        driver.get(\"https://www.histdata.com/download-free-forex-historical-data/?/excel/1-minute-bar-quotes/\"+pair_name+\"/\"+str(year))\n",
    "        driver.find_element_by_id('a_file').click()"
   ]
  },
  {
   "cell_type": "markdown",
   "metadata": {},
   "source": [
    "Run the cell to extract all. It will take some time."
   ]
  },
  {
   "cell_type": "code",
   "execution_count": 10,
   "metadata": {
    "scrolled": true
   },
   "outputs": [
    {
     "name": "stdout",
     "output_type": "stream",
     "text": [
      "\n",
      "\n",
      "\n",
      "\n",
      "EURUSD\n",
      "EURCHF\n",
      "EURGBP\n",
      "EURJPY\n",
      "EURAUD\n",
      "USDCAD\n",
      "USDCHF\n",
      "USDJPY\n",
      "USDMXN\n",
      "GBPCHF\n",
      "GBPJPY\n",
      "GBPUSD\n",
      "AUDJPY\n",
      "AUDUSD\n",
      "CHFJPY\n",
      "NZDJPY\n",
      "NZDUSD\n",
      "XAUUSD\n",
      "EURCAD\n",
      "AUDCAD\n",
      "CADJPY\n",
      "EURNZD\n",
      "GRXEUR\n",
      "NZDCAD\n",
      "SGDJPY\n",
      "USDHKD\n",
      "USDNOK\n",
      "USDTRY\n",
      "XAUAUD\n",
      "AUDCHF\n",
      "AUXAUD\n",
      "EURHUF\n",
      "EURPLN\n",
      "FRXEUR\n",
      "HKXHKD\n",
      "NZDCHF\n",
      "SPXUSD\n",
      "USDHUF\n",
      "USDPLN\n",
      "USDZAR\n",
      "XAUCHF\n",
      "ZARJPY\n",
      "BCOUSD\n",
      "ETXEUR\n",
      "EURCZK\n",
      "EURSEK\n",
      "GBPAUD\n",
      "GBPNZD\n",
      "JPXJPY\n",
      "UDXUSD\n",
      "USDCZK\n",
      "USDSEK\n",
      "WTIUSD\n",
      "XAUEUR\n",
      "AUDNZD\n",
      "CADCHF\n",
      "EURDKK\n",
      "EURNOK\n",
      "EURTRY\n",
      "GBPCAD\n",
      "NSXUSD\n",
      "UKXGBP\n",
      "USDDKK\n",
      "USDSGD\n",
      "XAGUSD\n",
      "XAUGBP\n"
     ]
    }
   ],
   "source": [
    "dic = get_all_pairs()\n",
    "for pair in zip(dic.keys(),dic.values()):\n",
    "    pairname = pair[0].replace('/','')\n",
    "    year_from = int(re.findall(\"\\d{4}\",pair[1])[0])\n",
    "    print(pairname)\n",
    "    getforexdata(pair_year=year_from,pair_name=pairname)"
   ]
  },
  {
   "cell_type": "markdown",
   "metadata": {},
   "source": [
    "Finally, extract all the zip to a single folder."
   ]
  },
  {
   "cell_type": "code",
   "execution_count": 16,
   "metadata": {},
   "outputs": [],
   "source": [
    "extract_directory = 'Your target directory that you want to extract to'\n",
    "all_zip_files = [f for f in listdir(extract_directory) if isfile(join(extract_directory, f))]\n",
    "\n",
    "for z in all_zip_files:\n",
    "    path_to_zip_file = extract_directory + '\\\\' + z\n",
    "    with zipfile.ZipFile(path_to_zip_file, 'r') as zip_ref:\n",
    "        zip_ref.extractall('E:\\\\ForexDataXlsx')"
   ]
  }
 ],
 "metadata": {
  "kernelspec": {
   "display_name": "Python 3",
   "language": "python",
   "name": "python3"
  },
  "language_info": {
   "codemirror_mode": {
    "name": "ipython",
    "version": 3
   },
   "file_extension": ".py",
   "mimetype": "text/x-python",
   "name": "python",
   "nbconvert_exporter": "python",
   "pygments_lexer": "ipython3",
   "version": "3.6.8"
  }
 },
 "nbformat": 4,
 "nbformat_minor": 2
}
